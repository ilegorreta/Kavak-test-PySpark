{
 "cells": [
  {
   "cell_type": "code",
   "execution_count": 1,
   "metadata": {},
   "outputs": [],
   "source": [
    "# Import SparkSession\n",
    "from pyspark.sql import SparkSession\n",
    "\n",
    "# Create SparkSession \n",
    "spark = SparkSession.builder \\\n",
    "      .master(\"local[1]\") \\\n",
    "      .appName(\"test\") \\\n",
    "      .getOrCreate()"
   ]
  },
  {
   "cell_type": "code",
   "execution_count": 2,
   "metadata": {},
   "outputs": [],
   "source": [
    "def get_length_articulos(source_path, target_path):\n",
    "     df_articles = spark.read.option(\"header\",True) \\\n",
    "          .csv(source_path)\n",
    "\n",
    "     df_product_type_dict = df_articles.select('product_type_no', 'product_type_name').dropDuplicates(['product_type_no']).orderBy('product_type_no')\n",
    "\n",
    "     df_product_type_dict.coalesce(1).write.mode('overwrite').option(\"header\",True) \\\n",
    "          .csv(target_path)\n",
    "\n",
    "     df_product_type = spark.read.option(\"header\",True) \\\n",
    "          .csv(target_path)\n",
    "\n",
    "     df = df_articles.join(df_product_type, df_articles.product_type_no == df_product_type.product_type_no, \"inner\")\n",
    "\n",
    "     if df_articles.count() == df.count():\n",
    "          return True, df.count()"
   ]
  },
  {
   "cell_type": "code",
   "execution_count": 3,
   "metadata": {},
   "outputs": [
    {
     "name": "stdout",
     "output_type": "stream",
     "text": [
      "There's count consistency before and after joining dataframes! - 105542 rows\n"
     ]
    }
   ],
   "source": [
    "source_csv_path = \"../data/articles.csv\"\n",
    "target_csv_path = \"../data/product_type.csv\"\n",
    "\n",
    "same_length, count = get_length_articulos(source_csv_path, target_csv_path)\n",
    "if same_length:\n",
    "    print(f\"There's count consistency before and after joining dataframes! - {count} rows\")\n",
    "else:\n",
    "    print(\"There's a mismatch in the count of records after the join. Please validate again.\")"
   ]
  },
  {
   "cell_type": "code",
   "execution_count": null,
   "metadata": {},
   "outputs": [],
   "source": []
  }
 ],
 "metadata": {
  "kernelspec": {
   "display_name": "vscode_pyspark",
   "language": "python",
   "name": "vscode_pyspark"
  },
  "language_info": {
   "codemirror_mode": {
    "name": "ipython",
    "version": 3
   },
   "file_extension": ".py",
   "mimetype": "text/x-python",
   "name": "python",
   "nbconvert_exporter": "python",
   "pygments_lexer": "ipython3",
   "version": "3.11.4"
  },
  "orig_nbformat": 4
 },
 "nbformat": 4,
 "nbformat_minor": 2
}
